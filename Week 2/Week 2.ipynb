{
 "cells": [
  {
   "cell_type": "markdown",
   "metadata": {},
   "source": [
    "# Input Dataset"
   ]
  },
  {
   "cell_type": "code",
   "execution_count": 1,
   "metadata": {},
   "outputs": [],
   "source": [
    "#Input data \n",
    "animaldata <- read.csv(\"AnimalData.csv\")"
   ]
  },
  {
   "cell_type": "markdown",
   "metadata": {},
   "source": [
    "## Create new subset for cats and dogs"
   ]
  },
  {
   "cell_type": "code",
   "execution_count": 2,
   "metadata": {},
   "outputs": [],
   "source": [
    "cat <- animaldata[animaldata$Animal.Type=='Cat',]\n",
    "Dog <- animaldata[animaldata$Animal.Type=='Dog',]"
   ]
  },
  {
   "cell_type": "markdown",
   "metadata": {},
   "source": [
    "## View the cat and dog data"
   ]
  },
  {
   "cell_type": "code",
   "execution_count": 3,
   "metadata": {},
   "outputs": [
    {
     "data": {
      "text/html": [
       "<table>\n",
       "<thead><tr><th></th><th scope=col>Impound.No</th><th scope=col>Intake.Date</th><th scope=col>Intake.Type</th><th scope=col>Animal.Type</th><th scope=col>Neutered.Status</th><th scope=col>Sex</th><th scope=col>Age.Intake</th><th scope=col>Condition</th><th scope=col>Breed</th><th scope=col>Aggressive</th><th scope=col>...</th><th scope=col>Good.with.Kids</th><th scope=col>Max.Life.Expectancy</th><th scope=col>Max.Weight</th><th scope=col>Dog.Group</th><th scope=col>Color</th><th scope=col>Weight</th><th scope=col>Lab.Test</th><th scope=col>Outcome.Date</th><th scope=col>Outcome.Type</th><th scope=col>Days.Shelter</th></tr></thead>\n",
       "<tbody>\n",
       "\t<tr><th scope=row>14</th><td>K12-000642                 </td><td>1/15/12                    </td><td>Owner Surrender            </td><td>Cat                        </td><td>Spayed                     </td><td>Female                     </td><td>15                         </td><td>Normal                     </td><td>Domestic Sh Mix            </td><td>                           </td><td>...                        </td><td>                           </td><td>NA                         </td><td>NA                         </td><td>                           </td><td>Black                      </td><td> 9.8                       </td><td>FeLV Negative, FIV Negative</td><td> 1/24/12                   </td><td>Adoption                   </td><td> 9                         </td></tr>\n",
       "\t<tr><th scope=row>15</th><td>K12-000653                 </td><td>1/15/12                    </td><td>Stray                      </td><td>Cat                        </td><td>Neutered                   </td><td>Male                       </td><td> 4                         </td><td>Normal                     </td><td>Maine Coon Mix             </td><td>                           </td><td>...                        </td><td>                           </td><td>NA                         </td><td>NA                         </td><td>                           </td><td>Blue                       </td><td>13.0                       </td><td>FeLV Negative, FIV Positive</td><td> 1/26/12                   </td><td>Return to Owner            </td><td>11                         </td></tr>\n",
       "\t<tr><th scope=row>17</th><td>K12-000798                 </td><td>1/15/12                    </td><td>Owner Surrender            </td><td>Cat                        </td><td>Spayed                     </td><td>Female                     </td><td> 4                         </td><td>Normal                     </td><td>Domestic Sh Mix            </td><td>                           </td><td>...                        </td><td>                           </td><td>NA                         </td><td>NA                         </td><td>                           </td><td>Tortie                     </td><td> 9.0                       </td><td>FeLV Negative, FIV Negative</td><td> 3/30/12                   </td><td>Transfer                   </td><td>75                         </td></tr>\n",
       "\t<tr><th scope=row>19</th><td>K12-000893                 </td><td>1/15/12                    </td><td>Owner Surrender            </td><td>Cat                        </td><td>Spayed                     </td><td>Female                     </td><td> 2                         </td><td>Normal                     </td><td>Domestic Sh Mix            </td><td>                           </td><td>...                        </td><td>                           </td><td>NA                         </td><td>NA                         </td><td>                           </td><td>Brn Tabby                  </td><td>10.5                       </td><td>FeLV Negative, FIV Positive</td><td> 2/12/12                   </td><td>Adoption                   </td><td>28                         </td></tr>\n",
       "\t<tr><th scope=row>20</th><td>K12-000903                 </td><td>1/15/12                    </td><td>Stray                      </td><td>Cat                        </td><td>Neutered                   </td><td>Male                       </td><td> 0                         </td><td>Normal                     </td><td>Domestic Sh Mix            </td><td>                           </td><td>...                        </td><td>                           </td><td>NA                         </td><td>NA                         </td><td>                           </td><td>Black                      </td><td> 4.5                       </td><td>FeLV Negative, FIV Positive</td><td> 2/12/12                   </td><td>Adoption                   </td><td>28                         </td></tr>\n",
       "\t<tr><th scope=row>23</th><td>K12-000975                                             </td><td>1/22/12                                                </td><td><span style=white-space:pre-wrap>Stray          </span></td><td>Cat                                                    </td><td>Neutered                                               </td><td><span style=white-space:pre-wrap>Male  </span>         </td><td> 2                                                     </td><td>Injured or Sick                                        </td><td>Domestic Sh Mix                                        </td><td>                                                       </td><td>...                                                    </td><td>                                                       </td><td>NA                                                     </td><td>NA                                                     </td><td>                                                       </td><td>Brn Tabby &amp; White                                  </td><td> 6.3                                                   </td><td>FeLV Negative, FIV Negative                            </td><td> 1/22/12                                               </td><td>Return to Owner                                        </td><td> 0                                                     </td></tr>\n",
       "</tbody>\n",
       "</table>\n"
      ],
      "text/latex": [
       "\\begin{tabular}{r|llllllllllllllllllllllll}\n",
       "  & Impound.No & Intake.Date & Intake.Type & Animal.Type & Neutered.Status & Sex & Age.Intake & Condition & Breed & Aggressive & ... & Good.with.Kids & Max.Life.Expectancy & Max.Weight & Dog.Group & Color & Weight & Lab.Test & Outcome.Date & Outcome.Type & Days.Shelter\\\\\n",
       "\\hline\n",
       "\t14 & K12-000642                  & 1/15/12                     & Owner Surrender             & Cat                         & Spayed                      & Female                      & 15                          & Normal                      & Domestic Sh Mix             &                             & ...                         &                             & NA                          & NA                          &                             & Black                       &  9.8                        & FeLV Negative, FIV Negative &  1/24/12                    & Adoption                    &  9                         \\\\\n",
       "\t15 & K12-000653                  & 1/15/12                     & Stray                       & Cat                         & Neutered                    & Male                        &  4                          & Normal                      & Maine Coon Mix              &                             & ...                         &                             & NA                          & NA                          &                             & Blue                        & 13.0                        & FeLV Negative, FIV Positive &  1/26/12                    & Return to Owner             & 11                         \\\\\n",
       "\t17 & K12-000798                  & 1/15/12                     & Owner Surrender             & Cat                         & Spayed                      & Female                      &  4                          & Normal                      & Domestic Sh Mix             &                             & ...                         &                             & NA                          & NA                          &                             & Tortie                      &  9.0                        & FeLV Negative, FIV Negative &  3/30/12                    & Transfer                    & 75                         \\\\\n",
       "\t19 & K12-000893                  & 1/15/12                     & Owner Surrender             & Cat                         & Spayed                      & Female                      &  2                          & Normal                      & Domestic Sh Mix             &                             & ...                         &                             & NA                          & NA                          &                             & Brn Tabby                   & 10.5                        & FeLV Negative, FIV Positive &  2/12/12                    & Adoption                    & 28                         \\\\\n",
       "\t20 & K12-000903                  & 1/15/12                     & Stray                       & Cat                         & Neutered                    & Male                        &  0                          & Normal                      & Domestic Sh Mix             &                             & ...                         &                             & NA                          & NA                          &                             & Black                       &  4.5                        & FeLV Negative, FIV Positive &  2/12/12                    & Adoption                    & 28                         \\\\\n",
       "\t23 & K12-000975                  & 1/22/12                     & Stray                       & Cat                         & Neutered                    & Male                        &  2                          & Injured or Sick             & Domestic Sh Mix             &                             & ...                         &                             & NA                          & NA                          &                             & Brn Tabby \\& White         &  6.3                        & FeLV Negative, FIV Negative &  1/22/12                    & Return to Owner             &  0                         \\\\\n",
       "\\end{tabular}\n"
      ],
      "text/markdown": [
       "\n",
       "| <!--/--> | Impound.No | Intake.Date | Intake.Type | Animal.Type | Neutered.Status | Sex | Age.Intake | Condition | Breed | Aggressive | ... | Good.with.Kids | Max.Life.Expectancy | Max.Weight | Dog.Group | Color | Weight | Lab.Test | Outcome.Date | Outcome.Type | Days.Shelter |\n",
       "|---|---|---|---|---|---|---|---|---|---|---|---|---|---|---|---|---|---|---|---|---|---|\n",
       "| 14 | K12-000642                  | 1/15/12                     | Owner Surrender             | Cat                         | Spayed                      | Female                      | 15                          | Normal                      | Domestic Sh Mix             |                             | ...                         |                             | NA                          | NA                          |                             | Black                       |  9.8                        | FeLV Negative, FIV Negative |  1/24/12                    | Adoption                    |  9                          |\n",
       "| 15 | K12-000653                  | 1/15/12                     | Stray                       | Cat                         | Neutered                    | Male                        |  4                          | Normal                      | Maine Coon Mix              |                             | ...                         |                             | NA                          | NA                          |                             | Blue                        | 13.0                        | FeLV Negative, FIV Positive |  1/26/12                    | Return to Owner             | 11                          |\n",
       "| 17 | K12-000798                  | 1/15/12                     | Owner Surrender             | Cat                         | Spayed                      | Female                      |  4                          | Normal                      | Domestic Sh Mix             |                             | ...                         |                             | NA                          | NA                          |                             | Tortie                      |  9.0                        | FeLV Negative, FIV Negative |  3/30/12                    | Transfer                    | 75                          |\n",
       "| 19 | K12-000893                  | 1/15/12                     | Owner Surrender             | Cat                         | Spayed                      | Female                      |  2                          | Normal                      | Domestic Sh Mix             |                             | ...                         |                             | NA                          | NA                          |                             | Brn Tabby                   | 10.5                        | FeLV Negative, FIV Positive |  2/12/12                    | Adoption                    | 28                          |\n",
       "| 20 | K12-000903                  | 1/15/12                     | Stray                       | Cat                         | Neutered                    | Male                        |  0                          | Normal                      | Domestic Sh Mix             |                             | ...                         |                             | NA                          | NA                          |                             | Black                       |  4.5                        | FeLV Negative, FIV Positive |  2/12/12                    | Adoption                    | 28                          |\n",
       "| 23 | K12-000975                  | 1/22/12                     | Stray                       | Cat                         | Neutered                    | Male                        |  2                          | Injured or Sick             | Domestic Sh Mix             |                             | ...                         |                             | NA                          | NA                          |                             | Brn Tabby & White           |  6.3                        | FeLV Negative, FIV Negative |  1/22/12                    | Return to Owner             |  0                          |\n",
       "\n"
      ],
      "text/plain": [
       "   Impound.No Intake.Date Intake.Type     Animal.Type Neutered.Status Sex   \n",
       "14 K12-000642 1/15/12     Owner Surrender Cat         Spayed          Female\n",
       "15 K12-000653 1/15/12     Stray           Cat         Neutered        Male  \n",
       "17 K12-000798 1/15/12     Owner Surrender Cat         Spayed          Female\n",
       "19 K12-000893 1/15/12     Owner Surrender Cat         Spayed          Female\n",
       "20 K12-000903 1/15/12     Stray           Cat         Neutered        Male  \n",
       "23 K12-000975 1/22/12     Stray           Cat         Neutered        Male  \n",
       "   Age.Intake Condition       Breed           Aggressive ... Good.with.Kids\n",
       "14 15         Normal          Domestic Sh Mix            ...               \n",
       "15  4         Normal          Maine Coon Mix             ...               \n",
       "17  4         Normal          Domestic Sh Mix            ...               \n",
       "19  2         Normal          Domestic Sh Mix            ...               \n",
       "20  0         Normal          Domestic Sh Mix            ...               \n",
       "23  2         Injured or Sick Domestic Sh Mix            ...               \n",
       "   Max.Life.Expectancy Max.Weight Dog.Group Color             Weight\n",
       "14 NA                  NA                   Black              9.8  \n",
       "15 NA                  NA                   Blue              13.0  \n",
       "17 NA                  NA                   Tortie             9.0  \n",
       "19 NA                  NA                   Brn Tabby         10.5  \n",
       "20 NA                  NA                   Black              4.5  \n",
       "23 NA                  NA                   Brn Tabby & White  6.3  \n",
       "   Lab.Test                    Outcome.Date Outcome.Type    Days.Shelter\n",
       "14 FeLV Negative, FIV Negative  1/24/12     Adoption         9          \n",
       "15 FeLV Negative, FIV Positive  1/26/12     Return to Owner 11          \n",
       "17 FeLV Negative, FIV Negative  3/30/12     Transfer        75          \n",
       "19 FeLV Negative, FIV Positive  2/12/12     Adoption        28          \n",
       "20 FeLV Negative, FIV Positive  2/12/12     Adoption        28          \n",
       "23 FeLV Negative, FIV Negative  1/22/12     Return to Owner  0          "
      ]
     },
     "metadata": {},
     "output_type": "display_data"
    }
   ],
   "source": [
    "head(cat)"
   ]
  },
  {
   "cell_type": "code",
   "execution_count": 4,
   "metadata": {},
   "outputs": [
    {
     "data": {
      "text/html": [
       "<table>\n",
       "<thead><tr><th scope=col>Impound.No</th><th scope=col>Intake.Date</th><th scope=col>Intake.Type</th><th scope=col>Animal.Type</th><th scope=col>Neutered.Status</th><th scope=col>Sex</th><th scope=col>Age.Intake</th><th scope=col>Condition</th><th scope=col>Breed</th><th scope=col>Aggressive</th><th scope=col>...</th><th scope=col>Good.with.Kids</th><th scope=col>Max.Life.Expectancy</th><th scope=col>Max.Weight</th><th scope=col>Dog.Group</th><th scope=col>Color</th><th scope=col>Weight</th><th scope=col>Lab.Test</th><th scope=col>Outcome.Date</th><th scope=col>Outcome.Type</th><th scope=col>Days.Shelter</th></tr></thead>\n",
       "<tbody>\n",
       "\t<tr><td>K12-000031                                                           </td><td>1/1/12                                                               </td><td>Stray                                                                </td><td>Dog                                                                  </td><td><span style=white-space:pre-wrap>Spayed  </span>                     </td><td>Female                                                               </td><td>10                                                                   </td><td>Injured or Sick                                                      </td><td><span style=white-space:pre-wrap>Chihuahua Sh Mix             </span></td><td>N                                                                    </td><td>...                                                                  </td><td>N                                                                    </td><td>18                                                                   </td><td> 6                                                                   </td><td><span style=white-space:pre-wrap>Toy     </span>                     </td><td><span style=white-space:pre-wrap>Tan &amp; White  </span>            </td><td> 3.3                                                                 </td><td>Heartworm Negative                                                   </td><td> 1/7/12                                                              </td><td><span style=white-space:pre-wrap>Adoption         </span>            </td><td> 6                                                                   </td></tr>\n",
       "\t<tr><td>K12-000037                                                           </td><td>1/1/12                                                               </td><td>Stray                                                                </td><td>Dog                                                                  </td><td><span style=white-space:pre-wrap>Intact  </span>                     </td><td>Female                                                               </td><td> 3                                                                   </td><td><span style=white-space:pre-wrap>Normal         </span>              </td><td><span style=white-space:pre-wrap>Rat Terrier Mix              </span></td><td>N                                                                    </td><td>...                                                                  </td><td>Y                                                                    </td><td>14                                                                   </td><td>25                                                                   </td><td>Terrier                                                              </td><td>White &amp; Brown                                                    </td><td> 7.5                                                                 </td><td><span style=white-space:pre-wrap>No Lab Test       </span>           </td><td> 1/3/12                                                              </td><td><span style=white-space:pre-wrap>Return to Owner  </span>            </td><td> 2                                                                   </td></tr>\n",
       "\t<tr><td>K12-000108                                                           </td><td>1/1/12                                                               </td><td>Stray                                                                </td><td>Dog                                                                  </td><td><span style=white-space:pre-wrap>Intact  </span>                     </td><td><span style=white-space:pre-wrap>Male  </span>                       </td><td> 2                                                                   </td><td><span style=white-space:pre-wrap>Normal         </span>              </td><td><span style=white-space:pre-wrap>Pit Bull Mix                 </span></td><td>N                                                                    </td><td>...                                                                  </td><td>Y                                                                    </td><td>14                                                                   </td><td>90                                                                   </td><td>Terrier                                                              </td><td>Blue &amp; White                                                     </td><td>74.0                                                                 </td><td>Heartworm Negative                                                   </td><td> 1/13/12                                                             </td><td>Humane Euthanasia                                                    </td><td>12                                                                   </td></tr>\n",
       "\t<tr><td>K12-000125                                                </td><td>1/1/12                                                    </td><td>Stray                                                     </td><td>Dog                                                       </td><td>Neutered                                                  </td><td><span style=white-space:pre-wrap>Male  </span>            </td><td> 0                                                        </td><td><span style=white-space:pre-wrap>Normal         </span>   </td><td>Labrador Retr &amp; Border Collie                         </td><td>N                                                         </td><td>...                                                       </td><td>Y                                                         </td><td>12                                                        </td><td>79                                                        </td><td>Sporting                                                  </td><td>White &amp; Black                                         </td><td>22.0                                                      </td><td><span style=white-space:pre-wrap>No Lab Test       </span></td><td> 1/8/12                                                   </td><td><span style=white-space:pre-wrap>Adoption         </span> </td><td> 7                                                        </td></tr>\n",
       "\t<tr><td>K12-000157                                                           </td><td>1/1/12                                                               </td><td>Stray                                                                </td><td>Dog                                                                  </td><td>Neutered                                                             </td><td><span style=white-space:pre-wrap>Male  </span>                       </td><td> 3                                                                   </td><td>Injured or Sick                                                      </td><td><span style=white-space:pre-wrap>Labrador Retr                </span></td><td>N                                                                    </td><td>...                                                                  </td><td>Y                                                                    </td><td>12                                                                   </td><td>79                                                                   </td><td>Sporting                                                             </td><td>Black &amp; White                                                    </td><td>54.0                                                                 </td><td>Heartworm Negative                                                   </td><td> 4/4/12                                                              </td><td><span style=white-space:pre-wrap>Adoption         </span>            </td><td>94                                                                   </td></tr>\n",
       "\t<tr><td>K12-000286                                                           </td><td>1/1/12                                                               </td><td>Stray                                                                </td><td>Dog                                                                  </td><td>Neutered                                                             </td><td><span style=white-space:pre-wrap>Male  </span>                       </td><td> 5                                                                   </td><td><span style=white-space:pre-wrap>Normal         </span>              </td><td><span style=white-space:pre-wrap>Yorkshire Terr               </span></td><td>N                                                                    </td><td>...                                                                  </td><td>Y                                                                    </td><td>15                                                                   </td><td> 7                                                                   </td><td>Terrier                                                              </td><td>Silver &amp; Tan                                                     </td><td> 4.8                                                                 </td><td>Heartworm Negative                                                   </td><td> 1/10/12                                                             </td><td><span style=white-space:pre-wrap>Return to Owner  </span>            </td><td> 9                                                                   </td></tr>\n",
       "</tbody>\n",
       "</table>\n"
      ],
      "text/latex": [
       "\\begin{tabular}{r|llllllllllllllllllllllll}\n",
       " Impound.No & Intake.Date & Intake.Type & Animal.Type & Neutered.Status & Sex & Age.Intake & Condition & Breed & Aggressive & ... & Good.with.Kids & Max.Life.Expectancy & Max.Weight & Dog.Group & Color & Weight & Lab.Test & Outcome.Date & Outcome.Type & Days.Shelter\\\\\n",
       "\\hline\n",
       "\t K12-000031                    & 1/1/12                        & Stray                         & Dog                           & Spayed                        & Female                        & 10                            & Injured or Sick               & Chihuahua Sh Mix              & N                             & ...                           & N                             & 18                            &  6                            & Toy                           & Tan \\& White                 &  3.3                          & Heartworm Negative            &  1/7/12                       & Adoption                      &  6                           \\\\\n",
       "\t K12-000037                    & 1/1/12                        & Stray                         & Dog                           & Intact                        & Female                        &  3                            & Normal                        & Rat Terrier Mix               & N                             & ...                           & Y                             & 14                            & 25                            & Terrier                       & White \\& Brown               &  7.5                          & No Lab Test                   &  1/3/12                       & Return to Owner               &  2                           \\\\\n",
       "\t K12-000108                    & 1/1/12                        & Stray                         & Dog                           & Intact                        & Male                          &  2                            & Normal                        & Pit Bull Mix                  & N                             & ...                           & Y                             & 14                            & 90                            & Terrier                       & Blue \\& White                & 74.0                          & Heartworm Negative            &  1/13/12                      & Humane Euthanasia             & 12                           \\\\\n",
       "\t K12-000125                      & 1/1/12                          & Stray                           & Dog                             & Neutered                        & Male                            &  0                              & Normal                          & Labrador Retr \\& Border Collie & N                               & ...                             & Y                               & 12                              & 79                              & Sporting                        & White \\& Black                 & 22.0                            & No Lab Test                     &  1/8/12                         & Adoption                        &  7                             \\\\\n",
       "\t K12-000157                    & 1/1/12                        & Stray                         & Dog                           & Neutered                      & Male                          &  3                            & Injured or Sick               & Labrador Retr                 & N                             & ...                           & Y                             & 12                            & 79                            & Sporting                      & Black \\& White               & 54.0                          & Heartworm Negative            &  4/4/12                       & Adoption                      & 94                           \\\\\n",
       "\t K12-000286                    & 1/1/12                        & Stray                         & Dog                           & Neutered                      & Male                          &  5                            & Normal                        & Yorkshire Terr                & N                             & ...                           & Y                             & 15                            &  7                            & Terrier                       & Silver \\& Tan                &  4.8                          & Heartworm Negative            &  1/10/12                      & Return to Owner               &  9                           \\\\\n",
       "\\end{tabular}\n"
      ],
      "text/markdown": [
       "\n",
       "| Impound.No | Intake.Date | Intake.Type | Animal.Type | Neutered.Status | Sex | Age.Intake | Condition | Breed | Aggressive | ... | Good.with.Kids | Max.Life.Expectancy | Max.Weight | Dog.Group | Color | Weight | Lab.Test | Outcome.Date | Outcome.Type | Days.Shelter |\n",
       "|---|---|---|---|---|---|---|---|---|---|---|---|---|---|---|---|---|---|---|---|---|\n",
       "| K12-000031                    | 1/1/12                        | Stray                         | Dog                           | Spayed                        | Female                        | 10                            | Injured or Sick               | Chihuahua Sh Mix              | N                             | ...                           | N                             | 18                            |  6                            | Toy                           | Tan & White                   |  3.3                          | Heartworm Negative            |  1/7/12                       | Adoption                      |  6                            |\n",
       "| K12-000037                    | 1/1/12                        | Stray                         | Dog                           | Intact                        | Female                        |  3                            | Normal                        | Rat Terrier Mix               | N                             | ...                           | Y                             | 14                            | 25                            | Terrier                       | White & Brown                 |  7.5                          | No Lab Test                   |  1/3/12                       | Return to Owner               |  2                            |\n",
       "| K12-000108                    | 1/1/12                        | Stray                         | Dog                           | Intact                        | Male                          |  2                            | Normal                        | Pit Bull Mix                  | N                             | ...                           | Y                             | 14                            | 90                            | Terrier                       | Blue & White                  | 74.0                          | Heartworm Negative            |  1/13/12                      | Humane Euthanasia             | 12                            |\n",
       "| K12-000125                    | 1/1/12                        | Stray                         | Dog                           | Neutered                      | Male                          |  0                            | Normal                        | Labrador Retr & Border Collie | N                             | ...                           | Y                             | 12                            | 79                            | Sporting                      | White & Black                 | 22.0                          | No Lab Test                   |  1/8/12                       | Adoption                      |  7                            |\n",
       "| K12-000157                    | 1/1/12                        | Stray                         | Dog                           | Neutered                      | Male                          |  3                            | Injured or Sick               | Labrador Retr                 | N                             | ...                           | Y                             | 12                            | 79                            | Sporting                      | Black & White                 | 54.0                          | Heartworm Negative            |  4/4/12                       | Adoption                      | 94                            |\n",
       "| K12-000286                    | 1/1/12                        | Stray                         | Dog                           | Neutered                      | Male                          |  5                            | Normal                        | Yorkshire Terr                | N                             | ...                           | Y                             | 15                            |  7                            | Terrier                       | Silver & Tan                  |  4.8                          | Heartworm Negative            |  1/10/12                      | Return to Owner               |  9                            |\n",
       "\n"
      ],
      "text/plain": [
       "  Impound.No Intake.Date Intake.Type Animal.Type Neutered.Status Sex   \n",
       "1 K12-000031 1/1/12      Stray       Dog         Spayed          Female\n",
       "2 K12-000037 1/1/12      Stray       Dog         Intact          Female\n",
       "3 K12-000108 1/1/12      Stray       Dog         Intact          Male  \n",
       "4 K12-000125 1/1/12      Stray       Dog         Neutered        Male  \n",
       "5 K12-000157 1/1/12      Stray       Dog         Neutered        Male  \n",
       "6 K12-000286 1/1/12      Stray       Dog         Neutered        Male  \n",
       "  Age.Intake Condition       Breed                         Aggressive ...\n",
       "1 10         Injured or Sick Chihuahua Sh Mix              N          ...\n",
       "2  3         Normal          Rat Terrier Mix               N          ...\n",
       "3  2         Normal          Pit Bull Mix                  N          ...\n",
       "4  0         Normal          Labrador Retr & Border Collie N          ...\n",
       "5  3         Injured or Sick Labrador Retr                 N          ...\n",
       "6  5         Normal          Yorkshire Terr                N          ...\n",
       "  Good.with.Kids Max.Life.Expectancy Max.Weight Dog.Group Color         Weight\n",
       "1 N              18                   6         Toy       Tan & White    3.3  \n",
       "2 Y              14                  25         Terrier   White & Brown  7.5  \n",
       "3 Y              14                  90         Terrier   Blue & White  74.0  \n",
       "4 Y              12                  79         Sporting  White & Black 22.0  \n",
       "5 Y              12                  79         Sporting  Black & White 54.0  \n",
       "6 Y              15                   7         Terrier   Silver & Tan   4.8  \n",
       "  Lab.Test           Outcome.Date Outcome.Type      Days.Shelter\n",
       "1 Heartworm Negative  1/7/12      Adoption           6          \n",
       "2 No Lab Test         1/3/12      Return to Owner    2          \n",
       "3 Heartworm Negative  1/13/12     Humane Euthanasia 12          \n",
       "4 No Lab Test         1/8/12      Adoption           7          \n",
       "5 Heartworm Negative  4/4/12      Adoption          94          \n",
       "6 Heartworm Negative  1/10/12     Return to Owner    9          "
      ]
     },
     "metadata": {},
     "output_type": "display_data"
    }
   ],
   "source": [
    "head(Dog)"
   ]
  },
  {
   "cell_type": "markdown",
   "metadata": {},
   "source": [
    "## Make new dataset for adult cats and adult dogs"
   ]
  },
  {
   "cell_type": "code",
   "execution_count": 5,
   "metadata": {},
   "outputs": [],
   "source": [
    "Adult_dog <- Dog[Dog$Age.Intake >= 1,]\n",
    "Adult_cat <- cat[cat$Age.Intake >= 1,]"
   ]
  },
  {
   "cell_type": "markdown",
   "metadata": {},
   "source": [
    "## Find the number of adult dogs and adult cat "
   ]
  },
  {
   "cell_type": "code",
   "execution_count": 6,
   "metadata": {},
   "outputs": [
    {
     "data": {
      "text/html": [
       "56"
      ],
      "text/latex": [
       "56"
      ],
      "text/markdown": [
       "56"
      ],
      "text/plain": [
       "[1] 56"
      ]
     },
     "metadata": {},
     "output_type": "display_data"
    },
    {
     "data": {
      "text/html": [
       "226"
      ],
      "text/latex": [
       "226"
      ],
      "text/markdown": [
       "226"
      ],
      "text/plain": [
       "[1] 226"
      ]
     },
     "metadata": {},
     "output_type": "display_data"
    }
   ],
   "source": [
    "length(Adult_cat$Impound.No)\n",
    "\n",
    "length(Adult_dog$Impound.No)"
   ]
  },
  {
   "cell_type": "markdown",
   "metadata": {},
   "source": [
    "Number of adult cat is **56**"
   ]
  },
  {
   "cell_type": "markdown",
   "metadata": {},
   "source": [
    "Number of adult dog is **226**"
   ]
  },
  {
   "cell_type": "markdown",
   "metadata": {},
   "source": [
    "## Check the shape of adult weight dogs and cats"
   ]
  },
  {
   "cell_type": "code",
   "execution_count": 12,
   "metadata": {},
   "outputs": [
    {
     "data": {
      "image/png": "[encoded data removed]",
      "text/plain": [
       "Plot with title \"Histogram of Adult dogs weight\""
      ]
     },
     "metadata": {},
     "output_type": "display_data"
    }
   ],
   "source": [
    "#Make Histogram of adult dogs weight\n",
    "hist(Adult_dog$Weight,main=\"Histogram of Adult dogs weight\",xlab=\"Weight\")"
   ]
  },
  {
   "cell_type": "markdown",
   "metadata": {},
   "source": [
    "So adult dogs weight are **Positively skew** or **Skewed in the Right** distribution"
   ]
  },
  {
   "cell_type": "code",
   "execution_count": 13,
   "metadata": {},
   "outputs": [
    {
     "data": {
      "image/png": "[encoded data removed]",
      "text/plain": [
       "Plot with title \"Histogram of Adult cat weight\""
      ]
     },
     "metadata": {},
     "output_type": "display_data"
    }
   ],
   "source": [
    "#Make Histogram of adult dogs weight\n",
    "hist(Adult_cat$Weight,main=\"Histogram of Adult cat weight\",xlab=\"Weight\")"
   ]
  },
  {
   "cell_type": "markdown",
   "metadata": {},
   "source": [
    "so adult cats weight are **roughly summatric** disribution "
   ]
  },
  {
   "cell_type": "markdown",
   "metadata": {},
   "source": [
    "## Find mean and Standard devation "
   ]
  },
  {
   "cell_type": "code",
   "execution_count": 14,
   "metadata": {},
   "outputs": [
    {
     "data": {
      "text/html": [
       "8.60357142857143"
      ],
      "text/latex": [
       "8.60357142857143"
      ],
      "text/markdown": [
       "8.60357142857143"
      ],
      "text/plain": [
       "[1] 8.603571"
      ]
     },
     "metadata": {},
     "output_type": "display_data"
    },
    {
     "data": {
      "text/html": [
       "1.91151670248944"
      ],
      "text/latex": [
       "1.91151670248944"
      ],
      "text/markdown": [
       "1.91151670248944"
      ],
      "text/plain": [
       "[1] 1.911517"
      ]
     },
     "metadata": {},
     "output_type": "display_data"
    }
   ],
   "source": [
    "#Mean and Standard deviation of adult cats weight\n",
    "mean(Adult_cat$Weight)\n",
    "sd(Adult_cat$Weight)"
   ]
  },
  {
   "cell_type": "markdown",
   "metadata": {},
   "source": [
    "Mean = **8.60**,\n",
    "Standard Deviation = **1.911**"
   ]
  },
  {
   "cell_type": "code",
   "execution_count": 15,
   "metadata": {},
   "outputs": [
    {
     "data": {
      "text/html": [
       "35.6703539823009"
      ],
      "text/latex": [
       "35.6703539823009"
      ],
      "text/markdown": [
       "35.6703539823009"
      ],
      "text/plain": [
       "[1] 35.67035"
      ]
     },
     "metadata": {},
     "output_type": "display_data"
    },
    {
     "data": {
      "text/html": [
       "23.4661168848175"
      ],
      "text/latex": [
       "23.4661168848175"
      ],
      "text/markdown": [
       "23.4661168848175"
      ],
      "text/plain": [
       "[1] 23.46612"
      ]
     },
     "metadata": {},
     "output_type": "display_data"
    }
   ],
   "source": [
    "#Mean and Standard deviation of adult dogs weight\n",
    "mean(Adult_dog$Weight)\n",
    "sd(Adult_dog$Weight)"
   ]
  },
  {
   "cell_type": "markdown",
   "metadata": {},
   "source": [
    "Mean = **35.67**,\n",
    "Standard Deviation = **23.46**"
   ]
  },
  {
   "cell_type": "markdown",
   "metadata": {},
   "source": [
    "## Find five number summary "
   ]
  },
  {
   "cell_type": "code",
   "execution_count": 16,
   "metadata": {},
   "outputs": [
    {
     "data": {
      "text/plain": [
       "   Min. 1st Qu.  Median    Mean 3rd Qu.    Max. \n",
       "  4.750   7.450   8.500   8.604   9.750  13.500 "
      ]
     },
     "metadata": {},
     "output_type": "display_data"
    }
   ],
   "source": [
    "#Five number summary of Adult cats weight\n",
    "summary(Adult_cat$Weight)"
   ]
  },
  {
   "cell_type": "code",
   "execution_count": 17,
   "metadata": {},
   "outputs": [
    {
     "data": {
      "text/plain": [
       "   Min. 1st Qu.  Median    Mean 3rd Qu.    Max. \n",
       "   3.30   13.50   35.25   35.67   53.88  131.00 "
      ]
     },
     "metadata": {},
     "output_type": "display_data"
    }
   ],
   "source": [
    "#Five number summary of Adult dogs weight\n",
    "summary(Adult_dog$Weight)"
   ]
  },
  {
   "cell_type": "markdown",
   "metadata": {},
   "source": [
    "## Find Z score for 13 pound cat"
   ]
  },
  {
   "cell_type": "code",
   "execution_count": 19,
   "metadata": {},
   "outputs": [
    {
     "name": "stdout",
     "output_type": "stream",
     "text": [
      "[1] 2.299969\n"
     ]
    }
   ],
   "source": [
    "zcat <- (13-mean(Adult_cat$Weight))/sd(Adult_cat$Weight)\n",
    "print(zcat)"
   ]
  },
  {
   "cell_type": "markdown",
   "metadata": {},
   "source": [
    "## Conclusition "
   ]
  },
  {
   "cell_type": "markdown",
   "metadata": {},
   "source": [
    "The distribution of adult cats in the shelter is **roughly symmetric** with a **mean** of 8.6 pounds and a standard deviation of \n",
    "**1.9** pounds.\n",
    "\n",
    "About 95% of adult cats at the shelter weigh between **4.8** and **12.4**pounds.\n",
    "The distribution of adult dogs in the shelter is **positively skewed**, with a median of **35.3** pounds and an IQR of \n",
    "**40.4** pounds. Half of the dogs at the shelter do weigh much more, including one that weighs \n",
    "**131.00**\n",
    "   ). As the two distributions are to be compared, and one distribution is skewed, the data shows that the median weight for both groups is \n",
    "**8.5**\n",
    "   for cats and **35.3** for dogs.\n",
    "\n",
    "A 13-pound cat \n",
    "would not\n",
    "   be typical at the shelter. On the other hand, about 75% of all dogs at the shelter weigh more than 13 pounds.\n",
    "   \n",
    "Overall, the distributions of weights for adult cats and adult dogs at the shelter differ both in shape and in measures of center and spread. Cats generally weigh less and have \n",
    "less\n",
    "   variation in their weights than dogs, while dogs tend to weigh more and have \n",
    "more\n",
    "   variability.\n"
   ]
  }
 ],
 "metadata": {
  "kernelspec": {
   "display_name": "R",
   "language": "R",
   "name": "ir"
  },
  "language_info": {
   "codemirror_mode": "r",
   "file_extension": ".r",
   "mimetype": "text/x-r-source",
   "name": "R",
   "pygments_lexer": "r",
   "version": "3.6.1"
  }
 },
 "nbformat": 4,
 "nbformat_minor": 4
}
