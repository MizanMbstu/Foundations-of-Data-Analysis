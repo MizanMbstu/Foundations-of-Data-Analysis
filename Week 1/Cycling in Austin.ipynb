{
 "cells": [
  {
   "cell_type": "markdown",
   "metadata": {},
   "source": [
    "![alt text](https://courses.edx.org/assets/courseware/v1/92f8defb29778209ffbeccc4d996d27e/asset-v1:UTAustinX+UT.7.11x+2T2017+type@asset+block/cycling.jpg)\n",
    "\n",
    "\n",
    "**In 2011, researchers at the Texas Transportation Institute and the Center for Transportation Research at UT Austin ran an advertising campaign aimed at recruiting Austin cyclists to join the South Congress Bike Mapping Project.  As members of the project, cyclists downloaded and used Cycle Tracks, a smartphone app developed by the San Francisco County Transportation Authority to track where people are riding their bikes based on their GPS points.  The goal was to gain new information about bike commuting patterns and this data set is based on the results of the study: 3600 trips tracked from 315 users over a 6 month period.   Data includes distances traveled, speed of travel, and reasons for travel among other variables.**"
   ]
  },
  {
   "cell_type": "markdown",
   "metadata": {},
   "source": [
    ">Primary Research Question \n",
    "\n",
    "#### How many of the cyclists rode daily, how many of these riders were male and how many female, and what were their average ages?"
   ]
  },
  {
   "cell_type": "code",
   "execution_count": 1,
   "metadata": {},
   "outputs": [],
   "source": [
    "#Input data\n",
    "data <- read.csv(\"BikeData.csv\")\n"
   ]
  },
  {
   "cell_type": "markdown",
   "metadata": {},
   "source": [
    "### Make a table of cyclists frequency rides\n"
   ]
  },
  {
   "cell_type": "code",
   "execution_count": 2,
   "metadata": {},
   "outputs": [
    {
     "data": {
      "text/plain": [
       "\n",
       "                  Daily  Less than once a month Several times per month \n",
       "                     47                       2                      14 \n",
       " Several times per week \n",
       "                     58 "
      ]
     },
     "metadata": {},
     "output_type": "display_data"
    }
   ],
   "source": [
    " table(data$cyc_freq)"
   ]
  },
  {
   "cell_type": "markdown",
   "metadata": {},
   "source": [
    " So there are **47** daily riders."
   ]
  },
  {
   "cell_type": "markdown",
   "metadata": {},
   "source": [
    "### Make a subset for male and female riders"
   ]
  },
  {
   "cell_type": "code",
   "execution_count": 3,
   "metadata": {},
   "outputs": [],
   "source": [
    "males <- data[data$gender == 'M',]\n",
    "females <- data[data$gender == 'F',]"
   ]
  },
  {
   "cell_type": "markdown",
   "metadata": {},
   "source": [
    "### Table of cyclist frequency rides for males and females "
   ]
  },
  {
   "cell_type": "code",
   "execution_count": 4,
   "metadata": {},
   "outputs": [
    {
     "data": {
      "text/plain": [
       "\n",
       "                  Daily  Less than once a month Several times per month \n",
       "                     38                       0                       9 \n",
       " Several times per week \n",
       "                     43 "
      ]
     },
     "metadata": {},
     "output_type": "display_data"
    }
   ],
   "source": [
    "table(males$cyc_freq)\n",
    "\n"
   ]
  },
  {
   "cell_type": "code",
   "execution_count": 5,
   "metadata": {},
   "outputs": [
    {
     "data": {
      "text/plain": [
       "\n",
       "                  Daily  Less than once a month Several times per month \n",
       "                      9                       2                       5 \n",
       " Several times per week \n",
       "                     15 "
      ]
     },
     "metadata": {},
     "output_type": "display_data"
    }
   ],
   "source": [
    "table(females$cyc_freq)"
   ]
  },
  {
   "cell_type": "markdown",
   "metadata": {},
   "source": [
    "So number of males daily riders is **38** and number of females daily riders is **9**"
   ]
  },
  {
   "cell_type": "markdown",
   "metadata": {},
   "source": [
    "### Calculate Age"
   ]
  },
  {
   "cell_type": "code",
   "execution_count": 6,
   "metadata": {},
   "outputs": [
    {
     "data": {
      "text/html": [
       "33.6595744680851"
      ],
      "text/latex": [
       "33.6595744680851"
      ],
      "text/markdown": [
       "33.6595744680851"
      ],
      "text/plain": [
       "[1] 33.65957"
      ]
     },
     "metadata": {},
     "output_type": "display_data"
    }
   ],
   "source": [
    "#Calculate average age of all daily riders \n",
    "mean(data$age[data$cyc_freq==\"Daily\"])"
   ]
  },
  {
   "cell_type": "markdown",
   "metadata": {},
   "source": [
    "So average age of daily riders is **33.7**"
   ]
  },
  {
   "cell_type": "code",
   "execution_count": 7,
   "metadata": {},
   "outputs": [
    {
     "data": {
      "text/html": [
       "33.9210526315789"
      ],
      "text/latex": [
       "33.9210526315789"
      ],
      "text/markdown": [
       "33.9210526315789"
      ],
      "text/plain": [
       "[1] 33.92105"
      ]
     },
     "metadata": {},
     "output_type": "display_data"
    }
   ],
   "source": [
    "#Calculate average age of males daily riders \n",
    "mean(males$age[males$cyc_freq==\"Daily\"])"
   ]
  },
  {
   "cell_type": "markdown",
   "metadata": {},
   "source": [
    "So average age of males daily riders is **33.9**"
   ]
  },
  {
   "cell_type": "code",
   "execution_count": 8,
   "metadata": {},
   "outputs": [
    {
     "data": {
      "text/html": [
       "32.5555555555556"
      ],
      "text/latex": [
       "32.5555555555556"
      ],
      "text/markdown": [
       "32.5555555555556"
      ],
      "text/plain": [
       "[1] 32.55556"
      ]
     },
     "metadata": {},
     "output_type": "display_data"
    }
   ],
   "source": [
    "#Calculate average age of females daily riders \n",
    "mean(females$age[females$cyc_freq==\"Daily\"])"
   ]
  },
  {
   "cell_type": "markdown",
   "metadata": {},
   "source": [
    "So average age of males daily riders is **32.6**"
   ]
  },
  {
   "cell_type": "markdown",
   "metadata": {},
   "source": [
    "### Conclusion"
   ]
  },
  {
   "cell_type": "markdown",
   "metadata": {},
   "source": [
    "In this lab, we examined data on **47** daily riders. Most of the daily riders **38** were male.The average age of all daily riders was \n",
    "**33.7**.The average age of female daily riders was **32.6**  , while the averge age of male daily riders was **33.9**\n",
    " "
   ]
  }
 ],
 "metadata": {
  "kernelspec": {
   "display_name": "R",
   "language": "R",
   "name": "ir"
  },
  "language_info": {
   "codemirror_mode": "r",
   "file_extension": ".r",
   "mimetype": "text/x-r-source",
   "name": "R",
   "pygments_lexer": "r",
   "version": "3.6.1"
  }
 },
 "nbformat": 4,
 "nbformat_minor": 4
}
