{
 "cells": [
  {
   "cell_type": "markdown",
   "metadata": {},
   "source": [
    "## Pre lab"
   ]
  },
  {
   "cell_type": "code",
   "execution_count": 1,
   "metadata": {},
   "outputs": [],
   "source": [
    "#Import dataset \n",
    "bull <-read.csv(\"BullRiders.csv\")"
   ]
  },
  {
   "cell_type": "code",
   "execution_count": 2,
   "metadata": {},
   "outputs": [
    {
     "data": {
      "text/html": [
       "<table>\n",
       "<caption>A data.frame: 6 × 44</caption>\n",
       "<thead>\n",
       "\t<tr><th></th><th scope=col>Rider</th><th scope=col>Rank15</th><th scope=col>Country</th><th scope=col>YearBorn</th><th scope=col>Height</th><th scope=col>Weight</th><th scope=col>YearsPro</th><th scope=col>Events14</th><th scope=col>BuckOuts14</th><th scope=col>Rides14</th><th scope=col>...</th><th scope=col>BuckOuts12</th><th scope=col>Rides12</th><th scope=col>CupPoints12</th><th scope=col>Rank12</th><th scope=col>RidePer12</th><th scope=col>Wins12</th><th scope=col>Top5_12</th><th scope=col>Top10_12</th><th scope=col>FinalPoints12</th><th scope=col>Earnings12</th></tr>\n",
       "\t<tr><th></th><th scope=col>&lt;chr&gt;</th><th scope=col>&lt;int&gt;</th><th scope=col>&lt;chr&gt;</th><th scope=col>&lt;int&gt;</th><th scope=col>&lt;int&gt;</th><th scope=col>&lt;int&gt;</th><th scope=col>&lt;int&gt;</th><th scope=col>&lt;int&gt;</th><th scope=col>&lt;int&gt;</th><th scope=col>&lt;int&gt;</th><th scope=col>...</th><th scope=col>&lt;int&gt;</th><th scope=col>&lt;int&gt;</th><th scope=col>&lt;dbl&gt;</th><th scope=col>&lt;int&gt;</th><th scope=col>&lt;dbl&gt;</th><th scope=col>&lt;int&gt;</th><th scope=col>&lt;int&gt;</th><th scope=col>&lt;int&gt;</th><th scope=col>&lt;dbl&gt;</th><th scope=col>&lt;dbl&gt;</th></tr>\n",
       "</thead>\n",
       "<tbody>\n",
       "\t<tr><th scope=row>1</th><td>Joao Ricardo Vieira </td><td>1</td><td>BRA</td><td>1984</td><td>66</td><td>163</td><td> 3</td><td>28</td><td>93</td><td>41</td><td>...</td><td> 0</td><td> 0</td><td>    0.00</td><td>0</td><td>0.00</td><td>0</td><td> 0</td><td> 0</td><td>  0.0</td><td>     0.0</td></tr>\n",
       "\t<tr><th scope=row>2</th><td>Matt Triplett       </td><td>2</td><td>USA</td><td>1991</td><td>67</td><td>160</td><td> 4</td><td>28</td><td>86</td><td>33</td><td>...</td><td> 0</td><td> 0</td><td>    0.00</td><td>0</td><td>0.00</td><td>0</td><td> 0</td><td> 0</td><td>  0.0</td><td>     0.0</td></tr>\n",
       "\t<tr><th scope=row>3</th><td>J.B. Mauney         </td><td>3</td><td>USA</td><td>1987</td><td>70</td><td>140</td><td>10</td><td>22</td><td>63</td><td>25</td><td>...</td><td>82</td><td>40</td><td> 9273.25</td><td>8</td><td>0.49</td><td>3</td><td> 8</td><td>13</td><td>287.0</td><td>313340.3</td></tr>\n",
       "\t<tr><th scope=row>4</th><td>Kaique Pacheco      </td><td>4</td><td>BRA</td><td>1994</td><td>68</td><td>145</td><td> 2</td><td> 1</td><td> 1</td><td> 0</td><td>...</td><td> 0</td><td> 0</td><td>    0.00</td><td>0</td><td>0.00</td><td>0</td><td> 0</td><td> 0</td><td>  0.0</td><td>     0.0</td></tr>\n",
       "\t<tr><th scope=row>5</th><td>Nathan Schaper      </td><td>5</td><td>USA</td><td>1990</td><td>73</td><td>160</td><td> 6</td><td>15</td><td>41</td><td>17</td><td>...</td><td> 0</td><td> 0</td><td>    0.00</td><td>0</td><td>0.00</td><td>0</td><td> 0</td><td> 0</td><td>  0.0</td><td>     0.0</td></tr>\n",
       "\t<tr><th scope=row>6</th><td>Valdiron de Oliveira</td><td>6</td><td>BRA</td><td>1979</td><td>72</td><td>170</td><td> 9</td><td>28</td><td>81</td><td>29</td><td>...</td><td>87</td><td>53</td><td>10608.25</td><td>4</td><td>0.61</td><td>1</td><td>10</td><td>14</td><td>559.5</td><td>208724.5</td></tr>\n",
       "</tbody>\n",
       "</table>\n"
      ],
      "text/latex": [
       "A data.frame: 6 × 44\n",
       "\\begin{tabular}{r|lllllllllllllllllllll}\n",
       "  & Rider & Rank15 & Country & YearBorn & Height & Weight & YearsPro & Events14 & BuckOuts14 & Rides14 & ... & BuckOuts12 & Rides12 & CupPoints12 & Rank12 & RidePer12 & Wins12 & Top5\\_12 & Top10\\_12 & FinalPoints12 & Earnings12\\\\\n",
       "  & <chr> & <int> & <chr> & <int> & <int> & <int> & <int> & <int> & <int> & <int> & ... & <int> & <int> & <dbl> & <int> & <dbl> & <int> & <int> & <int> & <dbl> & <dbl>\\\\\n",
       "\\hline\n",
       "\t1 & Joao Ricardo Vieira  & 1 & BRA & 1984 & 66 & 163 &  3 & 28 & 93 & 41 & ... &  0 &  0 &     0.00 & 0 & 0.00 & 0 &  0 &  0 &   0.0 &      0.0\\\\\n",
       "\t2 & Matt Triplett        & 2 & USA & 1991 & 67 & 160 &  4 & 28 & 86 & 33 & ... &  0 &  0 &     0.00 & 0 & 0.00 & 0 &  0 &  0 &   0.0 &      0.0\\\\\n",
       "\t3 & J.B. Mauney          & 3 & USA & 1987 & 70 & 140 & 10 & 22 & 63 & 25 & ... & 82 & 40 &  9273.25 & 8 & 0.49 & 3 &  8 & 13 & 287.0 & 313340.3\\\\\n",
       "\t4 & Kaique Pacheco       & 4 & BRA & 1994 & 68 & 145 &  2 &  1 &  1 &  0 & ... &  0 &  0 &     0.00 & 0 & 0.00 & 0 &  0 &  0 &   0.0 &      0.0\\\\\n",
       "\t5 & Nathan Schaper       & 5 & USA & 1990 & 73 & 160 &  6 & 15 & 41 & 17 & ... &  0 &  0 &     0.00 & 0 & 0.00 & 0 &  0 &  0 &   0.0 &      0.0\\\\\n",
       "\t6 & Valdiron de Oliveira & 6 & BRA & 1979 & 72 & 170 &  9 & 28 & 81 & 29 & ... & 87 & 53 & 10608.25 & 4 & 0.61 & 1 & 10 & 14 & 559.5 & 208724.5\\\\\n",
       "\\end{tabular}\n"
      ],
      "text/markdown": [
       "\n",
       "A data.frame: 6 × 44\n",
       "\n",
       "| <!--/--> | Rider &lt;chr&gt; | Rank15 &lt;int&gt; | Country &lt;chr&gt; | YearBorn &lt;int&gt; | Height &lt;int&gt; | Weight &lt;int&gt; | YearsPro &lt;int&gt; | Events14 &lt;int&gt; | BuckOuts14 &lt;int&gt; | Rides14 &lt;int&gt; | ... ... | BuckOuts12 &lt;int&gt; | Rides12 &lt;int&gt; | CupPoints12 &lt;dbl&gt; | Rank12 &lt;int&gt; | RidePer12 &lt;dbl&gt; | Wins12 &lt;int&gt; | Top5_12 &lt;int&gt; | Top10_12 &lt;int&gt; | FinalPoints12 &lt;dbl&gt; | Earnings12 &lt;dbl&gt; |\n",
       "|---|---|---|---|---|---|---|---|---|---|---|---|---|---|---|---|---|---|---|---|---|---|\n",
       "| 1 | Joao Ricardo Vieira  | 1 | BRA | 1984 | 66 | 163 |  3 | 28 | 93 | 41 | ... |  0 |  0 |     0.00 | 0 | 0.00 | 0 |  0 |  0 |   0.0 |      0.0 |\n",
       "| 2 | Matt Triplett        | 2 | USA | 1991 | 67 | 160 |  4 | 28 | 86 | 33 | ... |  0 |  0 |     0.00 | 0 | 0.00 | 0 |  0 |  0 |   0.0 |      0.0 |\n",
       "| 3 | J.B. Mauney          | 3 | USA | 1987 | 70 | 140 | 10 | 22 | 63 | 25 | ... | 82 | 40 |  9273.25 | 8 | 0.49 | 3 |  8 | 13 | 287.0 | 313340.3 |\n",
       "| 4 | Kaique Pacheco       | 4 | BRA | 1994 | 68 | 145 |  2 |  1 |  1 |  0 | ... |  0 |  0 |     0.00 | 0 | 0.00 | 0 |  0 |  0 |   0.0 |      0.0 |\n",
       "| 5 | Nathan Schaper       | 5 | USA | 1990 | 73 | 160 |  6 | 15 | 41 | 17 | ... |  0 |  0 |     0.00 | 0 | 0.00 | 0 |  0 |  0 |   0.0 |      0.0 |\n",
       "| 6 | Valdiron de Oliveira | 6 | BRA | 1979 | 72 | 170 |  9 | 28 | 81 | 29 | ... | 87 | 53 | 10608.25 | 4 | 0.61 | 1 | 10 | 14 | 559.5 | 208724.5 |\n",
       "\n"
      ],
      "text/plain": [
       "  Rider                Rank15 Country YearBorn Height Weight YearsPro Events14\n",
       "1 Joao Ricardo Vieira  1      BRA     1984     66     163     3       28      \n",
       "2 Matt Triplett        2      USA     1991     67     160     4       28      \n",
       "3 J.B. Mauney          3      USA     1987     70     140    10       22      \n",
       "4 Kaique Pacheco       4      BRA     1994     68     145     2        1      \n",
       "5 Nathan Schaper       5      USA     1990     73     160     6       15      \n",
       "6 Valdiron de Oliveira 6      BRA     1979     72     170     9       28      \n",
       "  BuckOuts14 Rides14 ... BuckOuts12 Rides12 CupPoints12 Rank12 RidePer12 Wins12\n",
       "1 93         41      ...  0          0          0.00    0      0.00      0     \n",
       "2 86         33      ...  0          0          0.00    0      0.00      0     \n",
       "3 63         25      ... 82         40       9273.25    8      0.49      3     \n",
       "4  1          0      ...  0          0          0.00    0      0.00      0     \n",
       "5 41         17      ...  0          0          0.00    0      0.00      0     \n",
       "6 81         29      ... 87         53      10608.25    4      0.61      1     \n",
       "  Top5_12 Top10_12 FinalPoints12 Earnings12\n",
       "1  0       0         0.0              0.0  \n",
       "2  0       0         0.0              0.0  \n",
       "3  8      13       287.0         313340.3  \n",
       "4  0       0         0.0              0.0  \n",
       "5  0       0         0.0              0.0  \n",
       "6 10      14       559.5         208724.5  "
      ]
     },
     "metadata": {},
     "output_type": "display_data"
    }
   ],
   "source": [
    "#See the head of data\n",
    "head(bull)"
   ]
  },
  {
   "cell_type": "code",
   "execution_count": 3,
   "metadata": {},
   "outputs": [],
   "source": [
    "#Subset for riders that participated in at least one event in 2013\n",
    "new_bull <- bull[bull$Events13  > 0 ,]"
   ]
  },
  {
   "cell_type": "code",
   "execution_count": 4,
   "metadata": {},
   "outputs": [
    {
     "data": {
      "image/png": "[encoded data removed]",
      "text/plain": [
       "Plot with title \"Historgram of Riders13\""
      ]
     },
     "metadata": {
      "image/png": {
       "height": 420,
       "width": 420
      }
     },
     "output_type": "display_data"
    }
   ],
   "source": [
    "# Visualize and describe the first variable of interest\n",
    "hist(new_bull$Rides13,xlab=\"Rides13\",main=\"Historgram of Riders13\")"
   ]
  },
  {
   "cell_type": "code",
   "execution_count": 5,
   "metadata": {},
   "outputs": [
    {
     "data": {
      "text/html": [
       "<style>\n",
       ".list-inline {list-style: none; margin:0; padding: 0}\n",
       ".list-inline>li {display: inline-block}\n",
       ".list-inline>li:not(:last-child)::after {content: \"\\00b7\"; padding: 0 .5ex}\n",
       "</style>\n",
       "<ol class=list-inline><li>0</li><li>11</li><li>19</li><li>25</li><li>50</li></ol>\n"
      ],
      "text/latex": [
       "\\begin{enumerate*}\n",
       "\\item 0\n",
       "\\item 11\n",
       "\\item 19\n",
       "\\item 25\n",
       "\\item 50\n",
       "\\end{enumerate*}\n"
      ],
      "text/markdown": [
       "1. 0\n",
       "2. 11\n",
       "3. 19\n",
       "4. 25\n",
       "5. 50\n",
       "\n",
       "\n"
      ],
      "text/plain": [
       "[1]  0 11 19 25 50"
      ]
     },
     "metadata": {},
     "output_type": "display_data"
    }
   ],
   "source": [
    "#Five number summary Rides13\n",
    "fivenum(new_bull$Rides13)"
   ]
  },
  {
   "cell_type": "code",
   "execution_count": 6,
   "metadata": {},
   "outputs": [
    {
     "data": {
      "text/html": [
       "18.7317073170732"
      ],
      "text/latex": [
       "18.7317073170732"
      ],
      "text/markdown": [
       "18.7317073170732"
      ],
      "text/plain": [
       "[1] 18.73171"
      ]
     },
     "metadata": {},
     "output_type": "display_data"
    },
    {
     "data": {
      "text/html": [
       "12.7318977184156"
      ],
      "text/latex": [
       "12.7318977184156"
      ],
      "text/markdown": [
       "12.7318977184156"
      ],
      "text/plain": [
       "[1] 12.7319"
      ]
     },
     "metadata": {},
     "output_type": "display_data"
    }
   ],
   "source": [
    "#Mean and Sd for Rides13\n",
    "mean(new_bull$Rides13)\n",
    "sd(new_bull$Rides13)"
   ]
  },
  {
   "cell_type": "code",
   "execution_count": 7,
   "metadata": {},
   "outputs": [
    {
     "data": {
      "image/png": "[encoded data removed]",
      "text/plain": [
       "Plot with title \"Histogram of Top13\""
      ]
     },
     "metadata": {
      "image/png": {
       "height": 420,
       "width": 420
      }
     },
     "output_type": "display_data"
    }
   ],
   "source": [
    "# Visualize and describe the second variable of interest\n",
    "hist(new_bull$Top10_13,xlab=\"Top13\",main=\"Histogram of Top13\")"
   ]
  },
  {
   "cell_type": "code",
   "execution_count": 8,
   "metadata": {},
   "outputs": [
    {
     "data": {
      "text/html": [
       "<style>\n",
       ".list-inline {list-style: none; margin:0; padding: 0}\n",
       ".list-inline>li {display: inline-block}\n",
       ".list-inline>li:not(:last-child)::after {content: \"\\00b7\"; padding: 0 .5ex}\n",
       "</style>\n",
       "<ol class=list-inline><li>0</li><li>2</li><li>6</li><li>8</li><li>14</li></ol>\n"
      ],
      "text/latex": [
       "\\begin{enumerate*}\n",
       "\\item 0\n",
       "\\item 2\n",
       "\\item 6\n",
       "\\item 8\n",
       "\\item 14\n",
       "\\end{enumerate*}\n"
      ],
      "text/markdown": [
       "1. 0\n",
       "2. 2\n",
       "3. 6\n",
       "4. 8\n",
       "5. 14\n",
       "\n",
       "\n"
      ],
      "text/plain": [
       "[1]  0  2  6  8 14"
      ]
     },
     "metadata": {},
     "output_type": "display_data"
    }
   ],
   "source": [
    "#Five number summary for Top13\n",
    "fivenum(new_bull$Top10_13)"
   ]
  },
  {
   "cell_type": "code",
   "execution_count": 9,
   "metadata": {},
   "outputs": [
    {
     "data": {
      "text/html": [
       "5.39024390243902"
      ],
      "text/latex": [
       "5.39024390243902"
      ],
      "text/markdown": [
       "5.39024390243902"
      ],
      "text/plain": [
       "[1] 5.390244"
      ]
     },
     "metadata": {},
     "output_type": "display_data"
    },
    {
     "data": {
      "text/html": [
       "4.03657062851926"
      ],
      "text/latex": [
       "4.03657062851926"
      ],
      "text/markdown": [
       "4.03657062851926"
      ],
      "text/plain": [
       "[1] 4.036571"
      ]
     },
     "metadata": {},
     "output_type": "display_data"
    }
   ],
   "source": [
    "#Mean and Sd for Top13\n",
    "mean(new_bull$Top10_13)\n",
    "sd(new_bull$Top10_13)"
   ]
  },
  {
   "cell_type": "code",
   "execution_count": 10,
   "metadata": {},
   "outputs": [
    {
     "data": {
      "image/png": "[encoded data removed]",
      "text/plain": [
       "Plot with title \"Scatterplot of Riders13 vs Top13\""
      ]
     },
     "metadata": {
      "image/png": {
       "height": 420,
       "width": 420
      }
     },
     "output_type": "display_data"
    }
   ],
   "source": [
    "# Create a scatterplot\n",
    "plot(new_bull$Rides13,new_bull$Top10_13,xlab=\"Riders13\",ylab=\"Top13\",main=\"Scatterplot of Riders13 vs Top13\")\n",
    "# Add line of best fit\n",
    "abline(lm(new_bull$Top10_13~new_bull$Rides13))"
   ]
  },
  {
   "cell_type": "code",
   "execution_count": 11,
   "metadata": {},
   "outputs": [
    {
     "data": {
      "text/html": [
       "0.916605952978041"
      ],
      "text/latex": [
       "0.916605952978041"
      ],
      "text/markdown": [
       "0.916605952978041"
      ],
      "text/plain": [
       "[1] 0.916606"
      ]
     },
     "metadata": {},
     "output_type": "display_data"
    }
   ],
   "source": [
    "# Calculate the correlation coefficient\n",
    "cor(new_bull$Rides13,new_bull$Top10_13)"
   ]
  },
  {
   "cell_type": "markdown",
   "metadata": {},
   "source": [
    "### Conclusion \n",
    "There is a strong **positive** linear relationship between the number of 8-second rides a bull rider completed and the total number of times he made it in the Top 10 after the 2013 season, (r = **.917**).\n",
    "The average number of rides for these bull riders was around **19**.There were no significant outliers. One rider appeared to have placed in the top-10 rankings only twice, despite an above-average number of rides. Upon closer inspection, we could see that he did not have a **very high** ride percentage which might account for his few appearances in the Top 10.\n"
   ]
  },
  {
   "cell_type": "code",
   "execution_count": 12,
   "metadata": {},
   "outputs": [],
   "source": [
    "#Subset for riders that participated in at least one event in 2012\n",
    "new_bull12 <- bull[bull$Events13  > 0 ,]"
   ]
  },
  {
   "cell_type": "markdown",
   "metadata": {},
   "source": [
    "## Lab"
   ]
  },
  {
   "cell_type": "code",
   "execution_count": 13,
   "metadata": {},
   "outputs": [],
   "source": [
    "#Subset for riders that participated in at least one event in 2012\n",
    "new_bull12 <- bull[bull$Events13  > 0 ,]"
   ]
  },
  {
   "cell_type": "code",
   "execution_count": 14,
   "metadata": {},
   "outputs": [
    {
     "data": {
      "image/png": "[encoded data removed]",
      "text/plain": [
       "Plot with title \"Hisogram of Earning12\""
      ]
     },
     "metadata": {
      "image/png": {
       "height": 420,
       "width": 420
      }
     },
     "output_type": "display_data"
    }
   ],
   "source": [
    "# Visualize and describe the first variable of interest\n",
    "hist(new_bull12$Earnings12,xlab=\"Earning12\",main=\"Hisogram of Earning12\")"
   ]
  },
  {
   "cell_type": "code",
   "execution_count": 15,
   "metadata": {},
   "outputs": [
    {
     "data": {
      "text/html": [
       "<style>\n",
       ".list-inline {list-style: none; margin:0; padding: 0}\n",
       ".list-inline>li {display: inline-block}\n",
       ".list-inline>li:not(:last-child)::after {content: \"\\00b7\"; padding: 0 .5ex}\n",
       "</style>\n",
       "<ol class=list-inline><li>0</li><li>0</li><li>90044.06</li><li>191399.08</li><li>1464475.61</li></ol>\n"
      ],
      "text/latex": [
       "\\begin{enumerate*}\n",
       "\\item 0\n",
       "\\item 0\n",
       "\\item 90044.06\n",
       "\\item 191399.08\n",
       "\\item 1464475.61\n",
       "\\end{enumerate*}\n"
      ],
      "text/markdown": [
       "1. 0\n",
       "2. 0\n",
       "3. 90044.06\n",
       "4. 191399.08\n",
       "5. 1464475.61\n",
       "\n",
       "\n"
      ],
      "text/plain": [
       "[1]       0.00       0.00   90044.06  191399.08 1464475.61"
      ]
     },
     "metadata": {},
     "output_type": "display_data"
    }
   ],
   "source": [
    "#Fivenumber summary of Earning12\n",
    "fivenum(new_bull12$Earnings12)"
   ]
  },
  {
   "cell_type": "code",
   "execution_count": 16,
   "metadata": {},
   "outputs": [
    {
     "data": {
      "text/html": [
       "142433.03902439"
      ],
      "text/latex": [
       "142433.03902439"
      ],
      "text/markdown": [
       "142433.03902439"
      ],
      "text/plain": [
       "[1] 142433"
      ]
     },
     "metadata": {},
     "output_type": "display_data"
    },
    {
     "data": {
      "text/html": [
       "242019.555954188"
      ],
      "text/latex": [
       "242019.555954188"
      ],
      "text/markdown": [
       "242019.555954188"
      ],
      "text/plain": [
       "[1] 242019.6"
      ]
     },
     "metadata": {},
     "output_type": "display_data"
    }
   ],
   "source": [
    "#Mean and Sd of Earning12\n",
    "mean(new_bull12$Earnings12)\n",
    "sd(new_bull12$Earnings12)"
   ]
  },
  {
   "cell_type": "code",
   "execution_count": 17,
   "metadata": {},
   "outputs": [
    {
     "data": {
      "image/png": "[encoded data removed]",
      "text/plain": [
       "Plot with title \"Scatterplot of Earning12 vs RidePer12\""
      ]
     },
     "metadata": {
      "image/png": {
       "height": 420,
       "width": 420
      }
     },
     "output_type": "display_data"
    }
   ],
   "source": [
    "# Create a scatterplot of Earning12 vs RidePer12\n",
    "plot(new_bull12$Earnings12,new_bull12$RidePer12,\n",
    "     xlab=\"Earning12\",ylab=\"RidePer12\",main=\"Scatterplot of Earning12 vs RidePer12\")\n",
    "abline(lm(new_bull12$RidePer12~ new_bull12$Earnings12))\n"
   ]
  },
  {
   "cell_type": "code",
   "execution_count": 18,
   "metadata": {},
   "outputs": [
    {
     "data": {
      "text/html": [
       "0.607476411199973"
      ],
      "text/latex": [
       "0.607476411199973"
      ],
      "text/markdown": [
       "0.607476411199973"
      ],
      "text/plain": [
       "[1] 0.6074764"
      ]
     },
     "metadata": {},
     "output_type": "display_data"
    }
   ],
   "source": [
    "#Correlation of Earning12 vs RidePer12\n",
    "cor(new_bull12$Earnings12,new_bull12$RidePer12)"
   ]
  },
  {
   "cell_type": "code",
   "execution_count": 19,
   "metadata": {},
   "outputs": [
    {
     "data": {
      "image/png": "[encoded data removed]",
      "text/plain": [
       "Plot with title \"Scatterplot of Earnings12 and Cup Points\""
      ]
     },
     "metadata": {
      "image/png": {
       "height": 420,
       "width": 420
      }
     },
     "output_type": "display_data"
    }
   ],
   "source": [
    "#Scatterplot of Earnings12 and Cup Points\n",
    "plot(new_bull12$Earnings12,new_bull12$CupPoints12,\n",
    "     xlab=\"Earnings12\",ylab=\"CupPoint12\",main=\"Scatterplot of Earnings12 and Cup Points\")\n",
    "abline(lm(new_bull12$CupPoints12~new_bull12$Earnings12))"
   ]
  },
  {
   "cell_type": "code",
   "execution_count": 20,
   "metadata": {},
   "outputs": [
    {
     "data": {
      "text/html": [
       "0.713194294336076"
      ],
      "text/latex": [
       "0.713194294336076"
      ],
      "text/markdown": [
       "0.713194294336076"
      ],
      "text/plain": [
       "[1] 0.7131943"
      ]
     },
     "metadata": {},
     "output_type": "display_data"
    }
   ],
   "source": [
    "#Correlation of Earnings and Cup Points\n",
    "cor(new_bull12$Earnings12,new_bull12$CupPoints12)"
   ]
  },
  {
   "cell_type": "code",
   "execution_count": 21,
   "metadata": {},
   "outputs": [
    {
     "data": {
      "text/html": [
       "<table>\n",
       "<caption>A matrix: 3 × 3 of type dbl</caption>\n",
       "<thead>\n",
       "\t<tr><th></th><th scope=col>Earnings12</th><th scope=col>RidePer12</th><th scope=col>CupPoints12</th></tr>\n",
       "</thead>\n",
       "<tbody>\n",
       "\t<tr><th scope=row>Earnings12</th><td>1.0000000</td><td>0.6074764</td><td>0.7131943</td></tr>\n",
       "\t<tr><th scope=row>RidePer12</th><td>0.6074764</td><td>1.0000000</td><td>0.9013967</td></tr>\n",
       "\t<tr><th scope=row>CupPoints12</th><td>0.7131943</td><td>0.9013967</td><td>1.0000000</td></tr>\n",
       "</tbody>\n",
       "</table>\n"
      ],
      "text/latex": [
       "A matrix: 3 × 3 of type dbl\n",
       "\\begin{tabular}{r|lll}\n",
       "  & Earnings12 & RidePer12 & CupPoints12\\\\\n",
       "\\hline\n",
       "\tEarnings12 & 1.0000000 & 0.6074764 & 0.7131943\\\\\n",
       "\tRidePer12 & 0.6074764 & 1.0000000 & 0.9013967\\\\\n",
       "\tCupPoints12 & 0.7131943 & 0.9013967 & 1.0000000\\\\\n",
       "\\end{tabular}\n"
      ],
      "text/markdown": [
       "\n",
       "A matrix: 3 × 3 of type dbl\n",
       "\n",
       "| <!--/--> | Earnings12 | RidePer12 | CupPoints12 |\n",
       "|---|---|---|---|\n",
       "| Earnings12 | 1.0000000 | 0.6074764 | 0.7131943 |\n",
       "| RidePer12 | 0.6074764 | 1.0000000 | 0.9013967 |\n",
       "| CupPoints12 | 0.7131943 | 0.9013967 | 1.0000000 |\n",
       "\n"
      ],
      "text/plain": [
       "            Earnings12 RidePer12 CupPoints12\n",
       "Earnings12  1.0000000  0.6074764 0.7131943  \n",
       "RidePer12   0.6074764  1.0000000 0.9013967  \n",
       "CupPoints12 0.7131943  0.9013967 1.0000000  "
      ]
     },
     "metadata": {},
     "output_type": "display_data"
    }
   ],
   "source": [
    "#Make a correlation Mattrix \n",
    "var12 <- c(\"Earnings12\",\"RidePer12\",\"CupPoints12\")\n",
    "cor(new_bull12[,var12])"
   ]
  },
  {
   "cell_type": "code",
   "execution_count": 22,
   "metadata": {},
   "outputs": [
    {
     "data": {
      "text/html": [
       "<table>\n",
       "<caption>A matrix: 3 × 3 of type dbl</caption>\n",
       "<thead>\n",
       "\t<tr><th></th><th scope=col>Earnings12</th><th scope=col>RidePer12</th><th scope=col>CupPoints12</th></tr>\n",
       "</thead>\n",
       "<tbody>\n",
       "\t<tr><th scope=row>Earnings12</th><td>1.0000000</td><td>0.8452714</td><td>0.9337473</td></tr>\n",
       "\t<tr><th scope=row>RidePer12</th><td>0.8452714</td><td>1.0000000</td><td>0.8970070</td></tr>\n",
       "\t<tr><th scope=row>CupPoints12</th><td>0.9337473</td><td>0.8970070</td><td>1.0000000</td></tr>\n",
       "</tbody>\n",
       "</table>\n"
      ],
      "text/latex": [
       "A matrix: 3 × 3 of type dbl\n",
       "\\begin{tabular}{r|lll}\n",
       "  & Earnings12 & RidePer12 & CupPoints12\\\\\n",
       "\\hline\n",
       "\tEarnings12 & 1.0000000 & 0.8452714 & 0.9337473\\\\\n",
       "\tRidePer12 & 0.8452714 & 1.0000000 & 0.8970070\\\\\n",
       "\tCupPoints12 & 0.9337473 & 0.8970070 & 1.0000000\\\\\n",
       "\\end{tabular}\n"
      ],
      "text/markdown": [
       "\n",
       "A matrix: 3 × 3 of type dbl\n",
       "\n",
       "| <!--/--> | Earnings12 | RidePer12 | CupPoints12 |\n",
       "|---|---|---|---|\n",
       "| Earnings12 | 1.0000000 | 0.8452714 | 0.9337473 |\n",
       "| RidePer12 | 0.8452714 | 1.0000000 | 0.8970070 |\n",
       "| CupPoints12 | 0.9337473 | 0.8970070 | 1.0000000 |\n",
       "\n"
      ],
      "text/plain": [
       "            Earnings12 RidePer12 CupPoints12\n",
       "Earnings12  1.0000000  0.8452714 0.9337473  \n",
       "RidePer12   0.8452714  1.0000000 0.8970070  \n",
       "CupPoints12 0.9337473  0.8970070 1.0000000  "
      ]
     },
     "metadata": {},
     "output_type": "display_data"
    }
   ],
   "source": [
    "#Removing outlier and make correlation matrix again\n",
    "nooutlier <- new_bull12[new_bull12$Earnings12 < 1000000 ,]\n",
    "cor(nooutlier[,var12])"
   ]
  },
  {
   "cell_type": "markdown",
   "metadata": {},
   "source": [
    "### Conclusion \n",
    "An initial examination of the relationships between Ride Percentage (RidePer) and Earnings, and Cup Points (CupPoints) and Earnings showed that Cup Points had the **stronger** relationship to Earnings. Ride Percentage and Earnings showed a correlation value of **0.6074** while Cup Points and Earnings had a correlation value of **0.7139**.Visual examination showedan \n",
    "**outlier**  in both relationships—a rider who has earned over 1 million dollars. Removal of this increased the initial relationship: Ride Percentage and Earnings now had a correlation value of **0.8452** and Cup Points and Earnings had a correlation value of **0.9337**.Cup Points still had the higher relationship to Earnings. Visual examination showed a good **linear relationship** for both Ride Percentage and Cup Points, indicating the correct use of the correlation coefficient."
   ]
  }
 ],
 "metadata": {
  "kernelspec": {
   "display_name": "R",
   "language": "R",
   "name": "ir"
  },
  "language_info": {
   "codemirror_mode": "r",
   "file_extension": ".r",
   "mimetype": "text/x-r-source",
   "name": "R",
   "pygments_lexer": "r",
   "version": "4.0.3"
  }
 },
 "nbformat": 4,
 "nbformat_minor": 4
}
